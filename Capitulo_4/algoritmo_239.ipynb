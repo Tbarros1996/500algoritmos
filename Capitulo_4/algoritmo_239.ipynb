{
 "cells": [
  {
   "cell_type": "code",
   "execution_count": 6,
   "metadata": {},
   "outputs": [],
   "source": [
    "# 500 Exercícios Resolvidos com Python\n",
    "# Thiago Barros\n",
    "# Exercícios resolvidos com base no Livro - 500 Algoritimos Resolvidos (ANITA LOPES E GUTO GARCIA)\n",
    "# Algoritimo Numero 239\n",
    "# Capitulo 4\n",
    "\n",
    "# Extra: Plotanto a Série de Tylor para expansao de uma função qualquer"
   ]
  },
  {
   "cell_type": "code",
   "execution_count": 7,
   "metadata": {},
   "outputs": [],
   "source": [
    "import pandas as pd\n",
    "import matplotlib.pyplot as plt\n",
    "import math as mt"
   ]
  },
  {
   "cell_type": "code",
   "execution_count": 22,
   "metadata": {},
   "outputs": [],
   "source": [
    "# Usando o mesmo código mas armazenando as informações de interações e erros numéricos\n",
    "\n",
    "\n",
    "valor_potencia = int(input('Entre com o valor da potencia: '))\n",
    "interacoes = int(input('Entre com o número de termos da expansão: '))\n",
    "\n",
    "interacao_lista = []\n",
    "erro_lista = []\n",
    "\n",
    "exponencial = 0\n",
    "\n",
    "for i in range(1,interacoes):\n",
    "    exponencial += round((valor_potencia ** i) / mt.factorial(i), 2)\n",
    "    erro = (1 - (exponencial / mt.exp(valor_potencia))) * 100\n",
    "    interacao_lista.append(int(i))\n",
    "    erro_lista.append(float(erro))"
   ]
  },
  {
   "cell_type": "code",
   "execution_count": 23,
   "metadata": {},
   "outputs": [
    {
     "data": {
      "text/html": [
       "<div>\n",
       "<style scoped>\n",
       "    .dataframe tbody tr th:only-of-type {\n",
       "        vertical-align: middle;\n",
       "    }\n",
       "\n",
       "    .dataframe tbody tr th {\n",
       "        vertical-align: top;\n",
       "    }\n",
       "\n",
       "    .dataframe thead th {\n",
       "        text-align: right;\n",
       "    }\n",
       "</style>\n",
       "<table border=\"1\" class=\"dataframe\">\n",
       "  <thead>\n",
       "    <tr style=\"text-align: right;\">\n",
       "      <th></th>\n",
       "      <th>Interações</th>\n",
       "      <th>Erro Numérico</th>\n",
       "    </tr>\n",
       "  </thead>\n",
       "  <tbody>\n",
       "    <tr>\n",
       "      <th>0</th>\n",
       "      <td>1</td>\n",
       "      <td>96.631027</td>\n",
       "    </tr>\n",
       "    <tr>\n",
       "      <th>1</th>\n",
       "      <td>2</td>\n",
       "      <td>88.208593</td>\n",
       "    </tr>\n",
       "    <tr>\n",
       "      <th>2</th>\n",
       "      <td>3</td>\n",
       "      <td>74.173449</td>\n",
       "    </tr>\n",
       "    <tr>\n",
       "      <th>3</th>\n",
       "      <td>4</td>\n",
       "      <td>56.627835</td>\n",
       "    </tr>\n",
       "    <tr>\n",
       "      <th>4</th>\n",
       "      <td>5</td>\n",
       "      <td>39.082221</td>\n",
       "    </tr>\n",
       "    <tr>\n",
       "      <th>5</th>\n",
       "      <td>6</td>\n",
       "      <td>24.460876</td>\n",
       "    </tr>\n",
       "    <tr>\n",
       "      <th>6</th>\n",
       "      <td>7</td>\n",
       "      <td>14.017058</td>\n",
       "    </tr>\n",
       "    <tr>\n",
       "      <th>7</th>\n",
       "      <td>8</td>\n",
       "      <td>7.487988</td>\n",
       "    </tr>\n",
       "    <tr>\n",
       "      <th>8</th>\n",
       "      <td>9</td>\n",
       "      <td>3.862972</td>\n",
       "    </tr>\n",
       "    <tr>\n",
       "      <th>9</th>\n",
       "      <td>10</td>\n",
       "      <td>2.050464</td>\n",
       "    </tr>\n",
       "  </tbody>\n",
       "</table>\n",
       "</div>"
      ],
      "text/plain": [
       "   Interações  Erro Numérico\n",
       "0           1      96.631027\n",
       "1           2      88.208593\n",
       "2           3      74.173449\n",
       "3           4      56.627835\n",
       "4           5      39.082221\n",
       "5           6      24.460876\n",
       "6           7      14.017058\n",
       "7           8       7.487988\n",
       "8           9       3.862972\n",
       "9          10       2.050464"
      ]
     },
     "execution_count": 23,
     "metadata": {},
     "output_type": "execute_result"
    }
   ],
   "source": [
    "# Gerando um com os valores de Interação e de Erro Numérico\n",
    "\n",
    "df = pd.DataFrame({\"Interações\":interacao_lista,\"Erro Numérico\":erro_lista})\n",
    "df.head(10)"
   ]
  },
  {
   "cell_type": "code",
   "execution_count": 26,
   "metadata": {},
   "outputs": [
    {
     "data": {
      "image/png": "[encoded data removed]",
      "text/plain": [
       "<Figure size 640x480 with 1 Axes>"
      ]
     },
     "metadata": {},
     "output_type": "display_data"
    }
   ],
   "source": [
    "plt.plot(df[\"Interações\"],df[\"Erro Numérico\"])\n",
    "plt.title(\"Expansão da Série de Taylor para uma Função Exponencial\")\n",
    "plt.xlabel(\"Interações\")\n",
    "plt.ylabel(\"Erro Percentual %\")\n",
    "plt.show()"
   ]
  },
  {
   "cell_type": "markdown",
   "metadata": {},
   "source": [
    "Em resumo,\n",
    "\n",
    "temos um exemplo prático da relação dos laços de repetição em das séries matemáticas, e como utilizar ambas as coisas pode ser útil para acharmos um resultado adequado."
   ]
  }
 ],
 "metadata": {
  "kernelspec": {
   "display_name": "base",
   "language": "python",
   "name": "python3"
  },
  "language_info": {
   "codemirror_mode": {
    "name": "ipython",
    "version": 3
   },
   "file_extension": ".py",
   "mimetype": "text/x-python",
   "name": "python",
   "nbconvert_exporter": "python",
   "pygments_lexer": "ipython3",
   "version": "3.11.7"
  }
 },
 "nbformat": 4,
 "nbformat_minor": 2
}
